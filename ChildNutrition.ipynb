{
 "cells": [
  {
   "cell_type": "code",
   "execution_count": 1,
   "id": "8b676c65",
   "metadata": {},
   "outputs": [],
   "source": [
    "def bmi(weight, height):\n",
    "    return 703*weight/(height**2)"
   ]
  },
  {
   "cell_type": "code",
   "execution_count": 2,
   "id": "7da1b5c9",
   "metadata": {},
   "outputs": [],
   "source": [
    "def bmiPrint(bmi):\n",
    "    if bmi<16:\n",
    "        return (f\"BMI of {name} is {bmi} and he or she is severly underweight\")\n",
    "    elif bmi>=16 and bmi<18.5:\n",
    "        return (f\"BMI of {name} is {bmi} and he or she is underweight\")\n",
    "    elif bmi>=18.5 and bmi<25:\n",
    "        return (f\"BMI of {name} is {bmi} and he or she is healthy\")\n",
    "    elif bmi >=25 and bmi<30:\n",
    "        return (f\"BMI of {name} is {bmi} and he or she is overweight\")\n",
    "    elif bmi>=30:\n",
    "        return (f\"BMI of {name} is {bmi} and he or she is severly overweight\")\n",
    "    \n",
    "    "
   ]
  },
  {
   "cell_type": "code",
   "execution_count": 5,
   "id": "ac3530c4",
   "metadata": {},
   "outputs": [],
   "source": [
    "def calories(milk,vegetables,meat,lentils,egg,rice):\n",
    "    return (milk)+(vegetables*0.85)+(meat*1.43)+(lentils*1.13)+(egg*1.5)+(rice*1.30)"
   ]
  },
  {
   "cell_type": "code",
   "execution_count": 9,
   "id": "18d87a29",
   "metadata": {},
   "outputs": [],
   "source": [
    "def caloriesPrint(calories,age):\n",
    "    if (age>=0 and age<=2) and calories < 800:\n",
    "        return f\"The daily calorie consumption of {name} is 800 and he (she) is taking {round(calories,5)},he or she require more calories and he or she is  under-nourished.\"\n",
    "    elif (age>=0 and age<=2) and calories >= 800:\n",
    "        return f\"The daily calorie consumption of {name} is 800 and he (she) is taking {rounf(calories,5)},he or she do not require more calories and he or she is  well-nourished.\"\n",
    "\n",
    "    if (age>=3 and age<=4) and calories < 1400:\n",
    "        return f\"The daily calorie consumption of {name} is 1400 and he (she) is taking {round(calories,5)},he or she require more calories and he or she is  under-nourished.\"\n",
    "    elif (age>=3 and age<=4) and calories >= 1400:\n",
    "        return f\"The daily calorie consumption of {name} is 1400 and he (she) is taking {round(calories,5)},he or she do not require more calories and he or she is  well-nourished.\"\n",
    "    if (age>=5 and age<=8) and calories < 1800:\n",
    "        return f\"The daily calorie consumption of {name} is 1800 and he (she) is taking {round(calories,5)},he or she require more calories and he or she is  under-nourished.\"\n",
    "    elif (age>=5 and age<=8) and calories>= 1800:\n",
    "        return f\"The daily calorie consumption of {name} is 1800 and he (she) is taking {round(calories,5)},he or she do not require more calories and he or she is  well-nourished.\"\n"
   ]
  },
  {
   "cell_type": "code",
   "execution_count": 12,
   "id": "8ef15b7a",
   "metadata": {},
   "outputs": [
    {
     "name": "stdout",
     "output_type": "stream",
     "text": [
      "Enter your name: jey\n",
      "Enter your age: 7\n",
      "Enter your height(in inches): 45\n",
      "Enter your weight(in pounds): 60\n",
      "\n",
      "\n",
      "----------------Calories Consumption----------------\n",
      "\n",
      "\n",
      "Enter milk consumption: 300\n",
      "Enter vegetables consumption: 200\n",
      "Enter meat consumption: 100\n",
      "Enter lentils consumption: 300\n",
      "Enter egg consumption: 200\n",
      "Enter rice consumption: 300\n",
      "\n",
      "\n",
      "BMI of jey is 20.82962962962963 and he or she is healthy\n",
      "\n",
      "\n",
      "The daily calorie consumption of jey is 1800 and he (she) is taking 1642.0,he or she require more calories  and he or she is  under-nourished.\n"
     ]
    }
   ],
   "source": [
    "if __name__ == \"__main__\":\n",
    "    name = input(\"Enter your name: \")\n",
    "    age = int(input(\"Enter your age: \"))\n",
    "    height = int(input(\"Enter your height(in inches): \"))\n",
    "    weight = int(input(\"Enter your weight(in pounds): \"))\n",
    "    print(\"\\n\")\n",
    "    print(\"----------------Calories Consumption----------------\")\n",
    "    print(\"\\n\")\n",
    "    milk = int(input(\"Enter milk consumption: \"))\n",
    "    vegetables = int(input(\"Enter vegetables consumption: \"))\n",
    "    meat = int(input(\"Enter meat consumption: \"))\n",
    "    lentils = int(input(\"Enter lentils consumption: \"))\n",
    "    egg = int(input(\"Enter egg consumption: \"))\n",
    "    rice = int(input(\"Enter rice consumption: \"))\n",
    "    Bmi = bmi(weight,height)\n",
    "    cal = calories(milk,vegetables,meat,lentils,egg,rice)\n",
    "    print(\"\\n\") \n",
    "    print(bmiprint(Bmi))\n",
    "    print(\"\\n\")\n",
    "    print(caloriesPrint(cal,age))\n"
   ]
  },
  {
   "cell_type": "code",
   "execution_count": null,
   "id": "6660a7ab",
   "metadata": {},
   "outputs": [],
   "source": []
  }
 ],
 "metadata": {
  "kernelspec": {
   "display_name": "Python 3",
   "language": "python",
   "name": "python3"
  },
  "language_info": {
   "codemirror_mode": {
    "name": "ipython",
    "version": 3
   },
   "file_extension": ".py",
   "mimetype": "text/x-python",
   "name": "python",
   "nbconvert_exporter": "python",
   "pygments_lexer": "ipython3",
   "version": "3.8.8"
  }
 },
 "nbformat": 4,
 "nbformat_minor": 5
}
